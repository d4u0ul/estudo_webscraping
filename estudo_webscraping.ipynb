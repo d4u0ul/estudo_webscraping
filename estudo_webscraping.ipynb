{
  "nbformat": 4,
  "nbformat_minor": 0,
  "metadata": {
    "colab": {
      "name": "Untitled0.ipynb",
      "provenance": [],
      "authorship_tag": "ABX9TyNl4Z7moRzEyVTiAToMXUGz",
      "include_colab_link": true
    },
    "kernelspec": {
      "name": "python3",
      "display_name": "Python 3"
    }
  },
  "cells": [
    {
      "cell_type": "markdown",
      "metadata": {
        "id": "view-in-github",
        "colab_type": "text"
      },
      "source": [
        "<a href=\"https://colab.research.google.com/github/d4u0ul/estudo_webscraping/blob/master/estudo_webscraping.ipynb\" target=\"_parent\"><img src=\"https://colab.research.google.com/assets/colab-badge.svg\" alt=\"Open In Colab\"/></a>"
      ]
    },
    {
      "cell_type": "markdown",
      "metadata": {
        "id": "i3VwFeqI49fy",
        "colab_type": "text"
      },
      "source": [
        ""
      ]
    },
    {
      "cell_type": "code",
      "metadata": {
        "id": "cLpO412i7TJ_",
        "colab_type": "code",
        "colab": {}
      },
      "source": [
        "import requests\n",
        "url = 'https://www.olx.com.br/autos-e-pecas/motos/650?q=burgman&sf=1'\n",
        "headers = {'User-Agent': 'Mozilla/5.0 (Macintosh; Intel Mac OS X 10_11_5) AppleWebKit/537.36 (KHTML, like Gecko) Chrome/50.0.2661.102 Safari/537.36'}\n",
        "page = requests.get(url, headers=headers)"
      ],
      "execution_count": 1,
      "outputs": []
    },
    {
      "cell_type": "code",
      "metadata": {
        "id": "qVyWCB8Byv5h",
        "colab_type": "code",
        "colab": {}
      },
      "source": [
        "from bs4 import BeautifulSoup\n",
        "soup = BeautifulSoup(page.content, 'html.parser')\n",
        "#print(soup.prettify())\n"
      ],
      "execution_count": 2,
      "outputs": []
    },
    {
      "cell_type": "code",
      "metadata": {
        "id": "pw4NNlZe95ft",
        "colab_type": "code",
        "colab": {
          "base_uri": "https://localhost:8080/",
          "height": 34
        },
        "outputId": "91c21c1d-a5a1-4446-d11c-e4294cd6b2d7"
      },
      "source": [
        "resultado=soup.find_all('p')\n",
        "resultado[0].get_text()\n",
        "print(len(resultado))\n",
        "\n",
        "\n"
      ],
      "execution_count": 3,
      "outputs": [
        {
          "output_type": "stream",
          "text": [
            "317\n"
          ],
          "name": "stdout"
        }
      ]
    },
    {
      "cell_type": "code",
      "metadata": {
        "id": "DuTtdnpF3NkW",
        "colab_type": "code",
        "colab": {
          "base_uri": "https://localhost:8080/",
          "height": 34
        },
        "outputId": "73f0dbb1-da1e-41b1-8316-ab0bd644f389"
      },
      "source": [
        "def preenche_branco(string):\n",
        "    if string == '':\n",
        "        string =\"0\"\n",
        "    return string\n",
        "\n",
        "print(preenche_branco(\"\"))"
      ],
      "execution_count": 117,
      "outputs": [
        {
          "output_type": "stream",
          "text": [
            "0\n"
          ],
          "name": "stdout"
        }
      ]
    },
    {
      "cell_type": "code",
      "metadata": {
        "id": "wPuwzdp7mOqE",
        "colab_type": "code",
        "colab": {
          "base_uri": "https://localhost:8080/",
          "height": 34
        },
        "outputId": "07deff83-9c9a-4a69-cb86-8c13e106d410"
      },
      "source": [
        "#palavra = 'teste aluno prof ddd'\n",
        "#if ('teste' in palavra) | ('dss' in palavra):\n",
        "    #print('sim')"
      ],
      "execution_count": 32,
      "outputs": [
        {
          "output_type": "stream",
          "text": [
            "sim\n"
          ],
          "name": "stdout"
        }
      ]
    },
    {
      "cell_type": "code",
      "metadata": {
        "id": "uD5G1JLpD0EO",
        "colab_type": "code",
        "colab": {}
      },
      "source": [
        "tudo=[] #transformando o result set em uma lista\n",
        "tudo_=[] #transformando o result set get_text em uma lista\n",
        "km=[]\n",
        "preco=[]\n",
        "dia=[]\n",
        "hora=[]\n",
        "local=[]\n",
        "tipo=[]\n",
        "\n",
        "for i in resultado:\n",
        "    tudo.append(i)    \n",
        "    \n",
        "for i in range(len(resultado)):\n",
        "    tudo_.append(resultado[i].get_text())    \n",
        "    \n",
        "contador=0\n",
        "for i in range(len(tudo)):\n",
        "    indice = i;\n",
        "    if (\"jm5s8b-0 jDoirm\" in str(tudo[i])) | (\"sc-gPWkxV koWcVZ\" in str(tudo[i])) :\n",
        "        \n",
        "        km.append(tudo_[i])\n",
        "        \n",
        "    elif (\"fnmrjs-16 jqSHIm\" in str(tudo[i])) | (\"sc-iGrrsa iLrMFL\"  in str(tudo[i])):\n",
        "        preco.append(preenche_branco(tudo_[i]))\n",
        "        # print(\"%i,%s,%s,%s\" %(contador,i,tudo_[i],preenche_branco(tudo_[i])))\n",
        "        #contador+=1\n",
        "    elif ((\"fnmrjs-19 eJIIxH\" in str(tudo[i])) & (\":\" in str(tudo[i]))) | ((\"sc-VJcYb cIBXFq\" in str(tudo[i])) & (\":\" in str(tudo[i]))):\n",
        "        hora.append(tudo_[i])\n",
        "        continue\n",
        "    elif (\"fnmrjs-19 eJIIxH\" in str(tudo[i])) |  (\"sc-VJcYb cIBXFq\" in str(tudo[i])):\n",
        "        dia.append(tudo_[i])\n",
        "    elif (\"fnmrjs-13 hdwqVC\" in str(tudo[i])) | (\"sc-jKVCRD eRpHql\" in str(tudo[i])):\n",
        "        local.append(tudo_[i])\n",
        "    elif (\"fnmrjs-14 iIprpQ\" in str(tudo[i])) | (\"sc-kaNhvL jnFkFU\" in str(tudo[i])):\n",
        "        tipo.append(tudo_[i])\n",
        "    #print(type(tudo[i]))\n",
        "#print(\"%s\\n%s \\n%s\\n%s\\n%s\\n%s\" %(indice,tudo[0],tudo[1],tudo[2],tudo[3],tudo[4]))\n",
        "#print(preco)"
      ],
      "execution_count": 123,
      "outputs": []
    },
    {
      "cell_type": "code",
      "metadata": {
        "id": "lv74h3qnXN6y",
        "colab_type": "code",
        "colab": {
          "base_uri": "https://localhost:8080/",
          "height": 595
        },
        "outputId": "35cc0f71-7614-47af-c59f-706cb64047ec"
      },
      "source": [
        "#for i in range(len(km)):\n",
        " #   print(\"%s,%s,%s,%s,%s\" % (km[i],preco[i],dia[i],hora[i],local[i]))\n",
        "\n",
        "def preco_baixo(valor):   \n",
        "    for i in range(len(preco)):\n",
        "        valor_anuncio=int(str((preco[i])).replace(\"R$ \",\"\").replace(\".\",\"\"))\n",
        "        if valor_anuncio<=valor:\n",
        "            print(\"Item de valor %i abaixo de %i desejado\" %(valor_anuncio,valor))\n",
        "            \n",
        "        \n",
        "\n",
        "preco_baixo(30000)"
      ],
      "execution_count": 127,
      "outputs": [
        {
          "output_type": "stream",
          "text": [
            "Item de valor 23900 abaixo de 30000 desejado\n",
            "Item de valor 28000 abaixo de 30000 desejado\n",
            "Item de valor 30000 abaixo de 30000 desejado\n",
            "Item de valor 23500 abaixo de 30000 desejado\n",
            "Item de valor 24900 abaixo de 30000 desejado\n",
            "Item de valor 18000 abaixo de 30000 desejado\n",
            "Item de valor 27800 abaixo de 30000 desejado\n",
            "Item de valor 22000 abaixo de 30000 desejado\n",
            "Item de valor 19900 abaixo de 30000 desejado\n",
            "Item de valor 22000 abaixo de 30000 desejado\n",
            "Item de valor 23490 abaixo de 30000 desejado\n",
            "Item de valor 23000 abaixo de 30000 desejado\n",
            "Item de valor 23500 abaixo de 30000 desejado\n",
            "Item de valor 19400 abaixo de 30000 desejado\n",
            "Item de valor 22500 abaixo de 30000 desejado\n",
            "Item de valor 23900 abaixo de 30000 desejado\n",
            "Item de valor 25000 abaixo de 30000 desejado\n",
            "Item de valor 18000 abaixo de 30000 desejado\n",
            "Item de valor 18000 abaixo de 30000 desejado\n",
            "Item de valor 25600 abaixo de 30000 desejado\n",
            "Item de valor 23500 abaixo de 30000 desejado\n",
            "Item de valor 16900 abaixo de 30000 desejado\n",
            "Item de valor 19900 abaixo de 30000 desejado\n",
            "Item de valor 28999 abaixo de 30000 desejado\n",
            "Item de valor 21000 abaixo de 30000 desejado\n",
            "Item de valor 23500 abaixo de 30000 desejado\n",
            "Item de valor 23000 abaixo de 30000 desejado\n",
            "Item de valor 25000 abaixo de 30000 desejado\n",
            "Item de valor 22500 abaixo de 30000 desejado\n",
            "Item de valor 0 abaixo de 30000 desejado\n",
            "Item de valor 28900 abaixo de 30000 desejado\n",
            "Item de valor 19500 abaixo de 30000 desejado\n",
            "Item de valor 22000 abaixo de 30000 desejado\n",
            "Item de valor 6000 abaixo de 30000 desejado\n"
          ],
          "name": "stdout"
        }
      ]
    },
    {
      "cell_type": "code",
      "metadata": {
        "id": "13Vl8v36r5Sp",
        "colab_type": "code",
        "colab": {}
      },
      "source": [
        "\n"
      ],
      "execution_count": 124,
      "outputs": []
    }
  ]
}